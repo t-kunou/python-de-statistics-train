{
 "cells": [
  {
   "cell_type": "code",
   "execution_count": 66,
   "metadata": {},
   "outputs": [],
   "source": [
    "import functools\n",
    "import matplotlib.pyplot as plt\n",
    "import numpy as np"
   ]
  },
  {
   "cell_type": "markdown",
   "metadata": {},
   "source": [
    "# 1. 算術平均\n",
    "\n",
    "- 相加平均とも言う。\n",
    "- いわゆる普通の平均。\n",
    "- 外れ値の影響を受けやすい。"
   ]
  },
  {
   "cell_type": "markdown",
   "metadata": {},
   "source": [
    "$$\n",
    "\\begin{align}\n",
    "\\overline{x}=\\frac{\\sum_{i=1}^{n} {x_i}}{n}\n",
    "\\end{align}\n",
    "$$"
   ]
  },
  {
   "cell_type": "code",
   "execution_count": 2,
   "metadata": {},
   "outputs": [
    {
     "data": {
      "text/plain": [
       "60.95"
      ]
     },
     "execution_count": 2,
     "metadata": {},
     "output_type": "execute_result"
    }
   ],
   "source": [
    "data = [64, 25, 87, 56, 61, 96, 91, 98, 12, 88, 50, 45, 65, 42, 65, 66, 47, 21, 82, 58]\n",
    "sum(data)/len(data)"
   ]
  },
  {
   "cell_type": "markdown",
   "metadata": {},
   "source": [
    "# 2. 加重平均\n",
    "\n",
    "- 項目ごとに重み付けをした平均。\n"
   ]
  },
  {
   "cell_type": "markdown",
   "metadata": {},
   "source": [
    "$$\n",
    "\\begin{align}\n",
    "\\overline{x_w}=\\frac{\\sum_{i=1}^{n} {w_i}{x_i}}{\\sum_{i=1}^{n} {w_i}}\n",
    "\\end{align}\n",
    "$$"
   ]
  },
  {
   "cell_type": "markdown",
   "metadata": {},
   "source": [
    "## 算術平均"
   ]
  },
  {
   "cell_type": "code",
   "execution_count": 64,
   "metadata": {},
   "outputs": [
    {
     "data": {
      "text/plain": [
       "70.0"
      ]
     },
     "execution_count": 64,
     "metadata": {},
     "output_type": "execute_result"
    }
   ],
   "source": [
    "scores = {'数学' : 60, '英語' : 80, '物理' : 70}\n",
    "\n",
    "sum(list(scores.values()))/3"
   ]
  },
  {
   "cell_type": "markdown",
   "metadata": {},
   "source": [
    "## 加重平均"
   ]
  },
  {
   "cell_type": "code",
   "execution_count": 65,
   "metadata": {},
   "outputs": [
    {
     "data": {
      "text/plain": [
       "67.5"
      ]
     },
     "execution_count": 65,
     "metadata": {},
     "output_type": "execute_result"
    }
   ],
   "source": [
    "scores = {'数学' : 60, '英語' : 80, '物理' : 70}\n",
    "weighted_scores = dict([(k, (v*2) if (k == '数学') else (v)) for k,v in scores.items()])\n",
    "\n",
    "sum(list(weighted_scores.values()))/4"
   ]
  },
  {
   "cell_type": "markdown",
   "metadata": {},
   "source": [
    "- 数学は他教科の2倍の重み付けをしている。ここでは数学の点数が低いため、通常の平均値70点よりも低い平均点となっている。"
   ]
  },
  {
   "cell_type": "markdown",
   "metadata": {},
   "source": [
    "# 3. 幾何平均\n",
    "\n",
    "- 相乗平均とも言う。\n",
    "- データの積のn乗根を取る。\n",
    "- 外れ値の影響を受けにくい。\n",
    "- 変化率の平均など、比率の平均値にも適している。"
   ]
  },
  {
   "cell_type": "markdown",
   "metadata": {},
   "source": [
    "$$\n",
    "\\begin{align}\n",
    "\\overline{m_g}=\\sqrt[n]{\\prod_{i=1}^{n} {x_i}}\n",
    "\\end{align}\n",
    "$$"
   ]
  },
  {
   "cell_type": "markdown",
   "metadata": {},
   "source": [
    "## 外れ値があるケース"
   ]
  },
  {
   "cell_type": "markdown",
   "metadata": {},
   "source": [
    "### 算術平均"
   ]
  },
  {
   "cell_type": "code",
   "execution_count": 3,
   "metadata": {},
   "outputs": [
    {
     "data": {
      "text/plain": [
       "3.0"
      ]
     },
     "execution_count": 3,
     "metadata": {},
     "output_type": "execute_result"
    }
   ],
   "source": [
    "data = [1, 2, 3, 1, 2, 3, 9]\n",
    "sum(data)/len(data)"
   ]
  },
  {
   "cell_type": "markdown",
   "metadata": {},
   "source": [
    "### 幾何平均"
   ]
  },
  {
   "cell_type": "code",
   "execution_count": 4,
   "metadata": {},
   "outputs": [
    {
     "data": {
      "text/plain": [
       "2.2837538219638014"
      ]
     },
     "execution_count": 4,
     "metadata": {},
     "output_type": "execute_result"
    }
   ],
   "source": [
    "data = [1, 2, 3, 1, 2, 3, 9]\n",
    "functools.reduce((lambda x, y : x * y), data)**(1/len(data))"
   ]
  },
  {
   "cell_type": "markdown",
   "metadata": {},
   "source": [
    "- 幾何平均の方が外れ値の影響を受けていない"
   ]
  },
  {
   "cell_type": "markdown",
   "metadata": {},
   "source": [
    "## 変化率の場合"
   ]
  },
  {
   "cell_type": "markdown",
   "metadata": {},
   "source": [
    "初期値100として、前回比150%, 200%, 250%, 300%, 350%に推移した場合"
   ]
  },
  {
   "cell_type": "code",
   "execution_count": 5,
   "metadata": {},
   "outputs": [
    {
     "data": {
      "text/plain": [
       "7875.0"
      ]
     },
     "execution_count": 5,
     "metadata": {},
     "output_type": "execute_result"
    }
   ],
   "source": [
    "first_value = 100\n",
    "data = [1.5, 2.0, 2.5, 3.0, 3.5]\n",
    "\n",
    "functools.reduce((lambda x, y : x * y), data, first_value)"
   ]
  },
  {
   "cell_type": "markdown",
   "metadata": {},
   "source": [
    "### 算術平均"
   ]
  },
  {
   "cell_type": "code",
   "execution_count": 6,
   "metadata": {},
   "outputs": [
    {
     "data": {
      "text/plain": [
       "2.5"
      ]
     },
     "execution_count": 6,
     "metadata": {},
     "output_type": "execute_result"
    }
   ],
   "source": [
    "data = [1.5, 2.0, 2.5, 3.0, 3.5]\n",
    "sum(data)/len(data)"
   ]
  },
  {
   "cell_type": "code",
   "execution_count": 7,
   "metadata": {},
   "outputs": [
    {
     "data": {
      "text/plain": [
       "9765.625"
      ]
     },
     "execution_count": 7,
     "metadata": {},
     "output_type": "execute_result"
    }
   ],
   "source": [
    "first_value = 100\n",
    "data = [2.5, 2.5, 2.5, 2.5, 2.5]\n",
    "\n",
    "functools.reduce((lambda x, y : x * y), data, first_value)"
   ]
  },
  {
   "cell_type": "markdown",
   "metadata": {},
   "source": [
    "### 幾何平均"
   ]
  },
  {
   "cell_type": "code",
   "execution_count": 8,
   "metadata": {},
   "outputs": [
    {
     "data": {
      "text/plain": [
       "2.3946944765934943"
      ]
     },
     "execution_count": 8,
     "metadata": {},
     "output_type": "execute_result"
    }
   ],
   "source": [
    "data = [1.5, 2.0, 2.5, 3.0, 3.5]\n",
    "functools.reduce((lambda x, y : x * y), data)**(1/len(data))"
   ]
  },
  {
   "cell_type": "code",
   "execution_count": 9,
   "metadata": {},
   "outputs": [
    {
     "data": {
      "text/plain": [
       "7875.000000000002"
      ]
     },
     "execution_count": 9,
     "metadata": {},
     "output_type": "execute_result"
    }
   ],
   "source": [
    "first_value = 100\n",
    "data = [2.3946944765934943 for i in range(5)]\n",
    "\n",
    "functools.reduce((lambda x, y : x * y), data, first_value)"
   ]
  },
  {
   "cell_type": "markdown",
   "metadata": {},
   "source": [
    "- 幾何平均の方が実際の値に近くなっていることがわかる"
   ]
  },
  {
   "cell_type": "markdown",
   "metadata": {},
   "source": [
    "# 4. 移動平均\n",
    "\n",
    "- 時系列のデータに対して、変化を緩やかにするのに使う。"
   ]
  },
  {
   "cell_type": "code",
   "execution_count": 10,
   "metadata": {
    "scrolled": true
   },
   "outputs": [
    {
     "data": {
      "text/plain": [
       "[<matplotlib.lines.Line2D at 0x109223f60>]"
      ]
     },
     "execution_count": 10,
     "metadata": {},
     "output_type": "execute_result"
    },
    {
     "data": {
      "image/png": "[encoded data removed]",
      "text/plain": [
       "<Figure size 432x288 with 1 Axes>"
      ]
     },
     "metadata": {
      "needs_background": "light"
     },
     "output_type": "display_data"
    }
   ],
   "source": [
    "data = [99, 96, 97, 96, 94, 97, 98, 96, 99, 94, 97, 99, 96, 100, 100, 96, 102, 99, 102, 101, 101, 103, 100, 105, 105, 102, 100, 102, 105, 100, 97, 97, 99, 97, 99, 100, 96, 102, 98, 102]\n",
    "\n",
    "plt.plot(data)"
   ]
  },
  {
   "cell_type": "code",
   "execution_count": 13,
   "metadata": {},
   "outputs": [
    {
     "data": {
      "text/plain": [
       "[<matplotlib.lines.Line2D at 0x109860ef0>]"
      ]
     },
     "execution_count": 13,
     "metadata": {},
     "output_type": "execute_result"
    },
    {
     "data": {
      "image/png": "[encoded data removed]",
      "text/plain": [
       "<Figure size 432x288 with 1 Axes>"
      ]
     },
     "metadata": {
      "needs_background": "light"
     },
     "output_type": "display_data"
    }
   ],
   "source": [
    "data = [99, 96, 97, 96, 94, 97, 98, 96, 99, 94, 97, 99, 96, 100, 100, 96, 102, 99, 102, 101, 101, 103, 100, 105, 105, 102, 100, 102, 105, 100, 97, 97, 99, 97, 99, 100, 96, 102, 98, 102]\n",
    "\n",
    "# ちょうどよいshiftメソッドがないので自作。ここは本質ではない\n",
    "import copy\n",
    "def shift_left(data, size):\n",
    "    if (size == 0):\n",
    "        return data\n",
    "    result = copy.copy(data)\n",
    "    result.pop(0)\n",
    "    return shift_left(result, size - 1)\n",
    "# \n",
    "\n",
    "tmp = list(zip(data, shift_left(data, 1), shift_left(data, 2)))\n",
    "moving_average = [data[0]] + list(map(lambda x : (x[0]+x[1]+x[2])/3, tmp))\n",
    "\n",
    "plt.plot(data)\n",
    "plt.plot(moving_average)"
   ]
  },
  {
   "cell_type": "markdown",
   "metadata": {},
   "source": [
    "- 元のデータ（青線）に対して、移動平均の値（赤線）の方が変化の傾向が読みやすくなっているのがわかる"
   ]
  },
  {
   "cell_type": "code",
   "execution_count": null,
   "metadata": {},
   "outputs": [],
   "source": []
  }
 ],
 "metadata": {
  "kernelspec": {
   "display_name": "Python 3",
   "language": "python",
   "name": "python3"
  },
  "language_info": {
   "codemirror_mode": {
    "name": "ipython",
    "version": 3
   },
   "file_extension": ".py",
   "mimetype": "text/x-python",
   "name": "python",
   "nbconvert_exporter": "python",
   "pygments_lexer": "ipython3",
   "version": "3.6.3"
  }
 },
 "nbformat": 4,
 "nbformat_minor": 2
}
