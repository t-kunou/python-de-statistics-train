{
 "cells": [
  {
   "cell_type": "markdown",
   "metadata": {},
   "source": [
    "# 1.偏差"
   ]
  },
  {
   "cell_type": "markdown",
   "metadata": {},
   "source": [
    "- 個々のデータと平均値との差分"
   ]
  },
  {
   "cell_type": "markdown",
   "metadata": {},
   "source": [
    "$$\n",
    "\\begin{align}\n",
    "{x_i} - \\overline{x}\n",
    "\\end{align}\n",
    "$$"
   ]
  },
  {
   "cell_type": "code",
   "execution_count": 21,
   "metadata": {
    "scrolled": true
   },
   "outputs": [
    {
     "name": "stdout",
     "output_type": "stream",
     "text": [
      "[-5.25, 10.75, -3.25, -5.25, -2.25, 7.75, 5.75, -6.25, -7.25, -2.25, -3.25, 5.75, -2.25, 7.75, -7.25, -6.25, 4.75, -1.25, 2.75, 6.75]\n"
     ]
    }
   ],
   "source": [
    "data = [52, 68, 54, 52, 55, 65, 63, 51, 50, 55, 54, 63, 55, 65, 50, 51, 62, 56, 60, 64]\n",
    "\n",
    "average = sum(data)/len(data)\n",
    "print([v - average for v in data])"
   ]
  },
  {
   "cell_type": "markdown",
   "metadata": {},
   "source": [
    "# 2. 偏差平方和"
   ]
  },
  {
   "cell_type": "markdown",
   "metadata": {},
   "source": [
    "- データのばらつきを表す値。\n",
    "- 偏差の2乗の和。\n",
    "- 偏差は＋−が揃っていないため、そのまま和を取ると0になる。それを避けるため2乗にする。"
   ]
  },
  {
   "cell_type": "markdown",
   "metadata": {},
   "source": [
    "$$\n",
    "\\begin{align}\n",
    "\\sum_{i=1}^{n}({x_i} - \\overline{x})^2\n",
    "\\end{align}\n",
    "$$"
   ]
  },
  {
   "cell_type": "code",
   "execution_count": 22,
   "metadata": {},
   "outputs": [
    {
     "data": {
      "text/plain": [
       "653.75"
      ]
     },
     "execution_count": 22,
     "metadata": {},
     "output_type": "execute_result"
    }
   ],
   "source": [
    "data = [52, 68, 54, 52, 55, 65, 63, 51, 50, 55, 54, 63, 55, 65, 50, 51, 62, 56, 60, 64]\n",
    "\n",
    "average = sum(data)/len(data)\n",
    "sum([(v - average)**2 for v in data])"
   ]
  },
  {
   "cell_type": "markdown",
   "metadata": {},
   "source": [
    "# 3. 分散"
   ]
  },
  {
   "cell_type": "markdown",
   "metadata": {},
   "source": [
    "- 偏差平方和をデータ数で割ったもの。"
   ]
  },
  {
   "cell_type": "markdown",
   "metadata": {},
   "source": [
    "$$\n",
    "\\begin{align}\n",
    "S^2=\\frac{\\sum_{i=1}^{n}({x_i} - \\overline{x})^2}{n}\n",
    "\\end{align}\n",
    "$$"
   ]
  },
  {
   "cell_type": "code",
   "execution_count": 24,
   "metadata": {},
   "outputs": [
    {
     "data": {
      "text/plain": [
       "32.6875"
      ]
     },
     "execution_count": 24,
     "metadata": {},
     "output_type": "execute_result"
    }
   ],
   "source": [
    "data = [52, 68, 54, 52, 55, 65, 63, 51, 50, 55, 54, 63, 55, 65, 50, 51, 62, 56, 60, 64]\n",
    "\n",
    "average = sum(data)/len(data)\n",
    "sum([(v - average)**2 for v in data])/len(data)"
   ]
  },
  {
   "cell_type": "markdown",
   "metadata": {},
   "source": [
    "# 4. 標準偏差"
   ]
  },
  {
   "cell_type": "markdown",
   "metadata": {},
   "source": [
    "- 分散の平方根をとったもの\n",
    "- この操作によって、2乗する前の元のデータと単位が揃う。"
   ]
  },
  {
   "cell_type": "markdown",
   "metadata": {},
   "source": [
    "$$\n",
    "\\begin{align}\n",
    "S=\\sqrt\\frac{\\sum_{i=1}^{n}({x_i} - \\overline{x})^2}{n}\n",
    "\\end{align}\n",
    "$$"
   ]
  },
  {
   "cell_type": "code",
   "execution_count": 25,
   "metadata": {},
   "outputs": [
    {
     "data": {
      "text/plain": [
       "5.717298313014636"
      ]
     },
     "execution_count": 25,
     "metadata": {},
     "output_type": "execute_result"
    }
   ],
   "source": [
    "data = [52, 68, 54, 52, 55, 65, 63, 51, 50, 55, 54, 63, 55, 65, 50, 51, 62, 56, 60, 64]\n",
    "\n",
    "average = sum(data)/len(data)\n",
    "(sum([(v - average)**2 for v in data])/len(data))**(1/2)"
   ]
  },
  {
   "cell_type": "markdown",
   "metadata": {},
   "source": [
    "# 5. 変動係数"
   ]
  },
  {
   "cell_type": "markdown",
   "metadata": {},
   "source": [
    "- 標準偏差を平均で割ったもの。\n",
    "- これにより単位もなくなるため、純粋なばらつきを比較できるようになる。\n",
    "- 例えば、象と蟻の個体の大きさのばらつきを調べる場合などに使える。"
   ]
  },
  {
   "cell_type": "markdown",
   "metadata": {},
   "source": [
    "$$\n",
    "\\begin{align}\n",
    "C.V.=\\frac{S}{\\overline{x}}\n",
    "\\end{align}\n",
    "$$"
   ]
  },
  {
   "cell_type": "code",
   "execution_count": 26,
   "metadata": {},
   "outputs": [
    {
     "data": {
      "text/plain": [
       "0.09986547271641286"
      ]
     },
     "execution_count": 26,
     "metadata": {},
     "output_type": "execute_result"
    }
   ],
   "source": [
    "data = [52, 68, 54, 52, 55, 65, 63, 51, 50, 55, 54, 63, 55, 65, 50, 51, 62, 56, 60, 64]\n",
    "\n",
    "average = sum(data)/len(data)\n",
    "(sum([(v - average)**2 for v in data])/len(data))**(1/2)/average"
   ]
  },
  {
   "cell_type": "code",
   "execution_count": null,
   "metadata": {},
   "outputs": [],
   "source": []
  }
 ],
 "metadata": {
  "kernelspec": {
   "display_name": "Python 3",
   "language": "python",
   "name": "python3"
  },
  "language_info": {
   "codemirror_mode": {
    "name": "ipython",
    "version": 3
   },
   "file_extension": ".py",
   "mimetype": "text/x-python",
   "name": "python",
   "nbconvert_exporter": "python",
   "pygments_lexer": "ipython3",
   "version": "3.6.3"
  }
 },
 "nbformat": 4,
 "nbformat_minor": 2
}
