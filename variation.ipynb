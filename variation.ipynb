{
 "cells": [
  {
   "cell_type": "code",
   "execution_count": 46,
   "metadata": {},
   "outputs": [],
   "source": [
    "import matplotlib.pyplot as plt"
   ]
  },
  {
   "cell_type": "markdown",
   "metadata": {},
   "source": [
    "# 1.偏差"
   ]
  },
  {
   "cell_type": "markdown",
   "metadata": {},
   "source": [
    "- 個々のデータと平均値との差分"
   ]
  },
  {
   "cell_type": "markdown",
   "metadata": {},
   "source": [
    "$$\n",
    "\\begin{align}\n",
    "{x_i} - \\overline{x} \\nonumber\n",
    "\\end{align}\n",
    "$$"
   ]
  },
  {
   "cell_type": "code",
   "execution_count": 21,
   "metadata": {
    "scrolled": true
   },
   "outputs": [
    {
     "name": "stdout",
     "output_type": "stream",
     "text": [
      "[-5.25, 10.75, -3.25, -5.25, -2.25, 7.75, 5.75, -6.25, -7.25, -2.25, -3.25, 5.75, -2.25, 7.75, -7.25, -6.25, 4.75, -1.25, 2.75, 6.75]\n"
     ]
    }
   ],
   "source": [
    "data = [52, 68, 54, 52, 55, 65, 63, 51, 50, 55, 54, 63, 55, 65, 50, 51, 62, 56, 60, 64]\n",
    "\n",
    "average = sum(data)/len(data)\n",
    "print([v - average for v in data])"
   ]
  },
  {
   "cell_type": "markdown",
   "metadata": {},
   "source": [
    "# 2. 偏差平方和"
   ]
  },
  {
   "cell_type": "markdown",
   "metadata": {},
   "source": [
    "- データのばらつきを表す値。\n",
    "- 偏差の2乗の和。\n",
    "- 偏差は＋−が揃っていないため、そのまま和を取ると0になる。それを避けるため2乗にする。"
   ]
  },
  {
   "cell_type": "markdown",
   "metadata": {},
   "source": [
    "$$\n",
    "\\begin{align}\n",
    "\\sum_{i=1}^{n}({x_i} - \\overline{x})^2 \\nonumber\n",
    "\\end{align}\n",
    "$$"
   ]
  },
  {
   "cell_type": "code",
   "execution_count": 22,
   "metadata": {},
   "outputs": [
    {
     "data": {
      "text/plain": [
       "653.75"
      ]
     },
     "execution_count": 22,
     "metadata": {},
     "output_type": "execute_result"
    }
   ],
   "source": [
    "data = [52, 68, 54, 52, 55, 65, 63, 51, 50, 55, 54, 63, 55, 65, 50, 51, 62, 56, 60, 64]\n",
    "\n",
    "average = sum(data)/len(data)\n",
    "sum([(v - average)**2 for v in data])"
   ]
  },
  {
   "cell_type": "markdown",
   "metadata": {},
   "source": [
    "# 3. 分散"
   ]
  },
  {
   "cell_type": "markdown",
   "metadata": {},
   "source": [
    "- 偏差平方和をデータ数で割ったもの。"
   ]
  },
  {
   "cell_type": "markdown",
   "metadata": {},
   "source": [
    "$$\n",
    "\\begin{align}\n",
    "S^2=\\frac{\\sum_{i=1}^{n}({x_i} - \\overline{x})^2}{n} \\nonumber\n",
    "\\end{align}\n",
    "$$"
   ]
  },
  {
   "cell_type": "code",
   "execution_count": 24,
   "metadata": {},
   "outputs": [
    {
     "data": {
      "text/plain": [
       "32.6875"
      ]
     },
     "execution_count": 24,
     "metadata": {},
     "output_type": "execute_result"
    }
   ],
   "source": [
    "data = [52, 68, 54, 52, 55, 65, 63, 51, 50, 55, 54, 63, 55, 65, 50, 51, 62, 56, 60, 64]\n",
    "\n",
    "average = sum(data)/len(data)\n",
    "sum([(v - average)**2 for v in data])/len(data)"
   ]
  },
  {
   "cell_type": "markdown",
   "metadata": {},
   "source": [
    "# 4. 標準偏差"
   ]
  },
  {
   "cell_type": "markdown",
   "metadata": {},
   "source": [
    "- 分散の平方根をとったもの\n",
    "- この操作によって、2乗する前の元のデータと単位が揃う。"
   ]
  },
  {
   "cell_type": "markdown",
   "metadata": {},
   "source": [
    "$$\n",
    "\\begin{align}\n",
    "S=\\sqrt\\frac{\\sum_{i=1}^{n}({x_i} - \\overline{x})^2}{n} \\nonumber\n",
    "\\end{align}\n",
    "$$"
   ]
  },
  {
   "cell_type": "code",
   "execution_count": 25,
   "metadata": {},
   "outputs": [
    {
     "data": {
      "text/plain": [
       "5.717298313014636"
      ]
     },
     "execution_count": 25,
     "metadata": {},
     "output_type": "execute_result"
    }
   ],
   "source": [
    "data = [52, 68, 54, 52, 55, 65, 63, 51, 50, 55, 54, 63, 55, 65, 50, 51, 62, 56, 60, 64]\n",
    "\n",
    "average = sum(data)/len(data)\n",
    "(sum([(v - average)**2 for v in data])/len(data))**(1/2)"
   ]
  },
  {
   "cell_type": "markdown",
   "metadata": {},
   "source": [
    "# 5. 変動係数"
   ]
  },
  {
   "cell_type": "markdown",
   "metadata": {},
   "source": [
    "- 標準偏差を平均で割ったもの。\n",
    "- これにより単位もなくなる（無名数となる）ため、純粋なばらつきを比較できるようになる。\n",
    "- 例えば、象と蟻の個体の大きさのばらつきを調べる場合などに使える。"
   ]
  },
  {
   "cell_type": "markdown",
   "metadata": {},
   "source": [
    "$$\n",
    "\\begin{align}\n",
    "C.V.=\\frac{S}{\\overline{x}} \\nonumber\n",
    "\\end{align}\n",
    "$$"
   ]
  },
  {
   "cell_type": "code",
   "execution_count": 26,
   "metadata": {},
   "outputs": [
    {
     "data": {
      "text/plain": [
       "0.09986547271641286"
      ]
     },
     "execution_count": 26,
     "metadata": {},
     "output_type": "execute_result"
    }
   ],
   "source": [
    "data = [52, 68, 54, 52, 55, 65, 63, 51, 50, 55, 54, 63, 55, 65, 50, 51, 62, 56, 60, 64]\n",
    "\n",
    "average = sum(data)/len(data)\n",
    "(sum([(v - average)**2 for v in data])/len(data))**(1/2)/average"
   ]
  },
  {
   "cell_type": "markdown",
   "metadata": {},
   "source": [
    "### 実際に大きさに差がある2つのデータのばらつきを比較する"
   ]
  },
  {
   "cell_type": "code",
   "execution_count": 44,
   "metadata": {},
   "outputs": [
    {
     "name": "stdout",
     "output_type": "stream",
     "text": [
      "# 平均\n",
      "49.3\n",
      "492.3\n",
      "# 偏差平方和\n",
      "2848.2\n",
      "59102.19999999999\n",
      "# 分散\n",
      "142.41\n",
      "2955.1099999999997\n",
      "# 標準偏差\n",
      "11.933566105737212\n",
      "54.36092346529812\n",
      "# 変動係数\n",
      "0.24206016441657632\n",
      "0.11042235113812333\n"
     ]
    }
   ],
   "source": [
    "data1 = [53, 39, 61, 63, 69, 36, 43, 46, 63, 52, 52, 32, 59, 69, 44, 30, 50, 36, 54, 35]\n",
    "data2 = [481, 403, 487, 578, 554, 488, 479, 538, 541, 431, 508, 413, 453, 583, 543, 407, 548, 474, 487, 450]\n",
    "\n",
    "print('# 平均')\n",
    "average1 = sum(data1)/len(data1)\n",
    "average2 = sum(data2)/len(data2)\n",
    "\n",
    "print(average1)\n",
    "print(average2)\n",
    "\n",
    "print('# 偏差平方和')\n",
    "print(sum([(v - average1)**2 for v in data1]))\n",
    "print(sum([(v - average2)**2 for v in data2]))\n",
    "\n",
    "print('# 分散')\n",
    "print(sum([(v - average1)**2 for v in data1])/len(data1))\n",
    "print(sum([(v - average2)**2 for v in data2])/len(data2))\n",
    "\n",
    "print('# 標準偏差')\n",
    "print((sum([(v - average1)**2 for v in data1])/len(data1))**(1/2))\n",
    "print((sum([(v - average2)**2 for v in data2])/len(data2))**(1/2))\n",
    "\n",
    "print('# 変動係数')\n",
    "print((sum([(v - average1)**2 for v in data1])/len(data1))**(1/2)/average1)\n",
    "print((sum([(v - average2)**2 for v in data2])/len(data2))**(1/2)/average2)"
   ]
  },
  {
   "cell_type": "markdown",
   "metadata": {},
   "source": [
    "- 標準偏差まではデータ2が大きいが、変動係数はデータ１の方が大きい。このことから、データ１の方がばらつきが大きいことがわかる"
   ]
  },
  {
   "cell_type": "code",
   "execution_count": null,
   "metadata": {},
   "outputs": [],
   "source": []
  }
 ],
 "metadata": {
  "kernelspec": {
   "display_name": "Python 3",
   "language": "python",
   "name": "python3"
  },
  "language_info": {
   "codemirror_mode": {
    "name": "ipython",
    "version": 3
   },
   "file_extension": ".py",
   "mimetype": "text/x-python",
   "name": "python",
   "nbconvert_exporter": "python",
   "pygments_lexer": "ipython3",
   "version": "3.6.3"
  }
 },
 "nbformat": 4,
 "nbformat_minor": 2
}
