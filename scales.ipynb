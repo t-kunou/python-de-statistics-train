{
 "cells": [
  {
   "cell_type": "markdown",
   "metadata": {},
   "source": [
    "# 測定尺度"
   ]
  },
  {
   "cell_type": "markdown",
   "metadata": {},
   "source": [
    "測定データは以下のように分類できる\n",
    "\n",
    "- 測定データ\n",
    "  - 量的データ\n",
    "    - 比率データ\n",
    "    - 間隔データ\n",
    "  - 質的データ\n",
    "    - 順位データ\n",
    "    -　カテゴリデータ"
   ]
  },
  {
   "cell_type": "markdown",
   "metadata": {},
   "source": [
    "|測定尺度|代表値|事例|値の意味|\n",
    "|-----------|--------|----|-----------|\n",
    "|比率尺度|度数、最頻値、中央値、四分位数、変動係数、幾何平均|質量、金額|0を基点として大小関係と値の差の大きさ、比率に意味がある|\n",
    "|間隔尺度|度数、最頻値、中央値、四分位数、平均、標準偏差|気温(摂氏)、知能指数|大小関係と値の差の大きさに意味がある|\n",
    "|順序尺度|度数、最頻値、中央値、四分位数|満足度、硬度|大小関係に意味がある|\n",
    "|名義尺度|度数、最頻値|性別、職業|同じ値かどうかのみが意味を持つ|"
   ]
  },
  {
   "cell_type": "markdown",
   "metadata": {},
   "source": [
    "# 連続変量と離散変量\n",
    "\n",
    "- 量的データの分類として、さらに連続変量と離散変量がある\n",
    "\n",
    "## 連続変量\n",
    "\n",
    "  - 質量や長さなど、値が整数値以外を取りうるもの\n",
    "\n",
    "## 離散変量\n",
    "\n",
    "  - 件数などの、値が整数値のみを取るもの\n",
    "  - 金額などは扱う値が大きいため、連続変量とすることが多い"
   ]
  },
  {
   "cell_type": "code",
   "execution_count": null,
   "metadata": {},
   "outputs": [],
   "source": []
  }
 ],
 "metadata": {
  "kernelspec": {
   "display_name": "Python 3",
   "language": "python",
   "name": "python3"
  },
  "language_info": {
   "codemirror_mode": {
    "name": "ipython",
    "version": 3
   },
   "file_extension": ".py",
   "mimetype": "text/x-python",
   "name": "python",
   "nbconvert_exporter": "python",
   "pygments_lexer": "ipython3",
   "version": "3.6.3"
  }
 },
 "nbformat": 4,
 "nbformat_minor": 2
}
