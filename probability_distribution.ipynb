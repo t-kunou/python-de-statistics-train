{
 "cells": [
  {
   "cell_type": "markdown",
   "metadata": {},
   "source": [
    "# 確率分布"
   ]
  },
  {
   "cell_type": "markdown",
   "metadata": {},
   "source": [
    "## 主な確率分布"
   ]
  },
  {
   "cell_type": "markdown",
   "metadata": {},
   "source": [
    "### 一様分布\n",
    "\n",
    "- 離散値が取る分布\n",
    "- 全ての確率変数が取る生起確率が一定\n",
    "- サイコロやコイン投げなど"
   ]
  },
  {
   "cell_type": "markdown",
   "metadata": {},
   "source": [
    "### 二項分布\n",
    "\n",
    "- 離散値が取る分布\n",
    "- n個のベルヌーイ試行における成功回数xの分布\n",
    "- コイン投げをn回繰り返し場合など\n",
    "- 正規分布で近似出来る"
   ]
  },
  {
   "cell_type": "markdown",
   "metadata": {},
   "source": [
    "### ポアソン分布\n",
    "\n",
    "- 離散値が取る分布\n",
    "- 稀にしか起こらない事象の生起回数の分布\n",
    "- 地震の予知などに使われている"
   ]
  },
  {
   "cell_type": "markdown",
   "metadata": {},
   "source": [
    "### 正規分布\n",
    "\n",
    "- 連続値が取る分布\n",
    "- 試行回数nが大きいときの2項分布の近似"
   ]
  },
  {
   "cell_type": "markdown",
   "metadata": {},
   "source": [
    "### z分布(標準正規分布) \n",
    "\n",
    "- 連続値が取る分布\n",
    "- 統計量を平均０，分散１になるように標準化したもの"
   ]
  },
  {
   "cell_type": "markdown",
   "metadata": {},
   "source": [
    "### t分布\n",
    "\n",
    "- 母分散の代わりに不偏分散を使ったt値の分布\n",
    "- 母平均、母分散がわからない場合に使用する\n",
    "- 自由度によって分布が変わる"
   ]
  },
  {
   "cell_type": "markdown",
   "metadata": {},
   "source": [
    "### χ^2分布\n",
    "\n",
    "- z値をデータの数だけ平方和したχ^2値の分布"
   ]
  },
  {
   "cell_type": "markdown",
   "metadata": {},
   "source": [
    "### F分布\n",
    "\n",
    "- 2つの母集団から取ってきたχ^2, もしくは不偏分散の日であるF値の分布"
   ]
  },
  {
   "cell_type": "code",
   "execution_count": null,
   "metadata": {},
   "outputs": [],
   "source": []
  }
 ],
 "metadata": {
  "kernelspec": {
   "display_name": "Python 3",
   "language": "python",
   "name": "python3"
  },
  "language_info": {
   "codemirror_mode": {
    "name": "ipython",
    "version": 3
   },
   "file_extension": ".py",
   "mimetype": "text/x-python",
   "name": "python",
   "nbconvert_exporter": "python",
   "pygments_lexer": "ipython3",
   "version": "3.6.3"
  }
 },
 "nbformat": 4,
 "nbformat_minor": 2
}
