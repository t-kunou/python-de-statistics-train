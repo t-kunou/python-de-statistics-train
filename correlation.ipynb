{
 "cells": [
  {
   "cell_type": "markdown",
   "metadata": {},
   "source": [
    "# 相関\n",
    "\n",
    "- 2つの変量についての関係"
   ]
  },
  {
   "cell_type": "markdown",
   "metadata": {},
   "source": [
    "## 相関係数\n",
    "\n",
    "- ピアソンの積率相関係数とも言う\n",
    "- 相関関係の度合いを表す統計量\n",
    "- 一方が他方と比例関係があるときに正の相関、反比例関係があるときに負の相関という\n",
    "- 相関係数は-1〜1 の値を取る"
   ]
  },
  {
   "cell_type": "markdown",
   "metadata": {},
   "source": [
    "$$\n",
    "r=\\frac{\\sum_{i=1}^{n}({x_i} - \\overline{x})({y_i} - \\overline{y})}{\\sqrt{\\sum_{i=1}^{n}({x_i} - \\overline{x})^2}\\sqrt{\\sum_{i=1}^{n}({y_i} - \\overline{y})^2}} \\nonumber\n",
    "$$"
   ]
  },
  {
   "cell_type": "code",
   "execution_count": 196,
   "metadata": {},
   "outputs": [],
   "source": [
    "import numpy as np\n",
    "    \n",
    "def correlation(x, y):\n",
    "        average_x = np.average(x)\n",
    "        average_y = np.average(y)\n",
    "\n",
    "        numerator = sum([(v[0] - average_x) * (v[1] - average_y) for v in zip(x, y)] )\n",
    "        denominator = ((sum([(v - average_x)**2 for v in x])**(1/2))) * ((sum([(v - average_y)**2 for v in y])**(1/2)))\n",
    "        \n",
    "        return numerator / denominator"
   ]
  },
  {
   "cell_type": "markdown",
   "metadata": {},
   "source": [
    "## 正の相関がある場合"
   ]
  },
  {
   "cell_type": "markdown",
   "metadata": {},
   "source": [
    "### 強い正の相関がある"
   ]
  },
  {
   "cell_type": "code",
   "execution_count": 197,
   "metadata": {},
   "outputs": [
    {
     "name": "stdout",
     "output_type": "stream",
     "text": [
      "相関係数 = 0.8593990168848863\n"
     ]
    },
    {
     "data": {
      "image/png": "[encoded data removed]",
      "text/plain": [
       "<Figure size 432x288 with 1 Axes>"
      ]
     },
     "metadata": {
      "needs_background": "light"
     },
     "output_type": "display_data"
    }
   ],
   "source": [
    "import numpy as np\n",
    "import matplotlib.pyplot as plt\n",
    "\n",
    "data = [[-4, 18], [2, 9], [-2, 18], [4, 10], [3, 8], [1, 9], [1, 18], [7, 11], [11, 10], [7, 26], [12, 14], [6, 28], [8, 27], [16, 19], [12, 31], [10, 25], [12, 30], [12, 30], [22, 36], [15, 37], [15, 33], [20, 25], [26, 34], [21, 24], [27, 35], [24, 26], [27, 30], [27, 42], [25, 35], [27, 38], [28, 32], [31, 41], [29, 46], [28, 49], [37, 49], [37, 50], [34, 49], [34, 47], [42, 48], [35, 45]]\n",
    "\n",
    "x, y = list(map(lambda x: x[0], data)), list(map(lambda x: x[1], data))\n",
    "\n",
    "plt.scatter(x, y)\n",
    "\n",
    "print(\"相関係数 = {x}\".format(x=correlation(x, y)))"
   ]
  },
  {
   "cell_type": "markdown",
   "metadata": {},
   "source": [
    "### 弱い正の相関がある"
   ]
  },
  {
   "cell_type": "code",
   "execution_count": 198,
   "metadata": {},
   "outputs": [
    {
     "name": "stdout",
     "output_type": "stream",
     "text": [
      "相関係数 = 0.49932199784181913\n"
     ]
    },
    {
     "data": {
      "image/png": "[encoded data removed]",
      "text/plain": [
       "<Figure size 432x288 with 1 Axes>"
      ]
     },
     "metadata": {
      "needs_background": "light"
     },
     "output_type": "display_data"
    }
   ],
   "source": [
    "import numpy as np\n",
    "import matplotlib.pyplot as plt\n",
    "\n",
    "data = [[-17, 26], [-6, 42], [-15, 36], [21, 50], [-7, 48], [-9, 40], [7, 10], [9, 35], [15, 29], [24, 13], [8, 52], [20, 69], [10, 43], [17, 65], [25, 48], [0, 20], [35, 59], [26, 49], [24, 32], [23, 39], [33, 40], [27, 46], [25, 40], [13, 63], [26, 68], [28, 70], [31, 69], [10, 72], [46, 33], [15, 82], [44, 74], [27, 75], [23, 76], [26, 65], [28, 56], [52, 91], [43, 66], [47, 60], [42, 85], [41, 75]]\n",
    "\n",
    "x, y = list(map(lambda x: x[0], data)), list(map(lambda x: x[1], data))\n",
    "\n",
    "plt.scatter(x, y)\n",
    "\n",
    "print(\"相関係数 = {x}\".format(x=correlation(x, y)))"
   ]
  },
  {
   "cell_type": "markdown",
   "metadata": {},
   "source": [
    "## 負の相関がある場合"
   ]
  },
  {
   "cell_type": "markdown",
   "metadata": {},
   "source": [
    "### 強い負の相関がある"
   ]
  },
  {
   "cell_type": "code",
   "execution_count": 199,
   "metadata": {},
   "outputs": [
    {
     "name": "stdout",
     "output_type": "stream",
     "text": [
      "相関係数 = -0.8740396049579144\n"
     ]
    },
    {
     "data": {
      "image/png": "[encoded data removed]",
      "text/plain": [
       "<Figure size 432x288 with 1 Axes>"
      ]
     },
     "metadata": {
      "needs_background": "light"
     },
     "output_type": "display_data"
    }
   ],
   "source": [
    "import numpy as np\n",
    "import matplotlib.pyplot as plt\n",
    "\n",
    "data = [[3, 54], [5, 42], [4, 43], [-1, 56], [0, 51], [6, 43], [1, 36], [2, 43], [8, 50], [11, 40], [8, 33], [14, 39], [16, 35], [14, 45], [12, 35], [10, 42], [18, 43], [12, 28], [19, 36], [16, 23], [24, 21], [25, 31], [25, 24], [25, 23], [22, 27], [28, 19], [21, 32], [22, 30], [31, 31], [25, 28], [29, 25], [35, 19], [31, 23], [28, 8], [32, 10], [36, 5], [39, 11], [32, 20], [34, 10], [43, 13]]\n",
    "\n",
    "x, y = list(map(lambda x: x[0], data)), list(map(lambda x: x[1], data))\n",
    "\n",
    "plt.scatter(x, y)\n",
    "\n",
    "print(\"相関係数 = {x}\".format(x=correlation(x, y)))"
   ]
  },
  {
   "cell_type": "markdown",
   "metadata": {},
   "source": [
    "### 弱い負の相関がある"
   ]
  },
  {
   "cell_type": "code",
   "execution_count": 200,
   "metadata": {
    "scrolled": false
   },
   "outputs": [
    {
     "name": "stdout",
     "output_type": "stream",
     "text": [
      "相関係数 = -0.5610837954209142\n"
     ]
    },
    {
     "data": {
      "image/png": "[encoded data removed]",
      "text/plain": [
       "<Figure size 432x288 with 1 Axes>"
      ]
     },
     "metadata": {
      "needs_background": "light"
     },
     "output_type": "display_data"
    }
   ],
   "source": [
    "import numpy as np\n",
    "import matplotlib.pyplot as plt\n",
    "\n",
    "data = [[-6, 64], [-1, 83], [-5, 49], [18, 64], [-5, 59], [3, 92], [5, 67], [18, 72], [-7, 49], [6, 87], [4, 86], [1, 42], [0, 71], [19, 53], [17, 36], [5, 67], [33, 62], [3, 56], [22, 66], [26, 39], [9, 36], [17, 52], [23, 52], [21, 45], [4, 57], [33, 51], [33, 21], [11, 59], [11, 68], [29, 35], [32, 58], [38, 50], [36, 47], [18, 49], [31, 20], [39, 19], [43, 17], [28, 56], [33, 18], [33, 59]]\n",
    "\n",
    "x, y = list(map(lambda x: x[0], data)), list(map(lambda x: x[1], data))\n",
    "\n",
    "plt.scatter(x, y)\n",
    "\n",
    "print(\"相関係数 = {x}\".format(x=correlation(x, y)))"
   ]
  },
  {
   "cell_type": "markdown",
   "metadata": {},
   "source": [
    "### 相関が見られない"
   ]
  },
  {
   "cell_type": "code",
   "execution_count": 201,
   "metadata": {},
   "outputs": [
    {
     "name": "stdout",
     "output_type": "stream",
     "text": [
      "相関係数 = 0.09397702150387197\n"
     ]
    },
    {
     "data": {
      "image/png": "[encoded data removed]",
      "text/plain": [
       "<Figure size 432x288 with 1 Axes>"
      ]
     },
     "metadata": {
      "needs_background": "light"
     },
     "output_type": "display_data"
    }
   ],
   "source": [
    "import numpy as np\n",
    "import matplotlib.pyplot as plt\n",
    "\n",
    "data=[[1, 56], [5, 57], [3, 61], [7, 56], [4, 55], [7, 61], [10, 56], [10, 59], [16, 61], [9, 60], [10, 57], [11, 64], [18, 60], [13, 62], [20, 61], [19, 61], [20, 63], [21, 63], [25, 56], [23, 64], [29, 55], [25, 61], [29, 55], [25, 55], [26, 61], [31, 61], [32, 63], [35, 64], [31, 57], [34, 59], [39, 55], [40, 59], [35, 56], [33, 61], [35, 64], [41, 62], [40, 62], [46, 61], [42, 57], [45, 57]]\n",
    "\n",
    "x, y = list(map(lambda x: x[0], data)), list(map(lambda x: x[1], data))\n",
    "\n",
    "plt.scatter(x, y)\n",
    "\n",
    "print(\"相関係数 = {x}\".format(x=correlation(x, y)))"
   ]
  },
  {
   "cell_type": "code",
   "execution_count": null,
   "metadata": {},
   "outputs": [],
   "source": []
  }
 ],
 "metadata": {
  "kernelspec": {
   "display_name": "Python 3",
   "language": "python",
   "name": "python3"
  },
  "language_info": {
   "codemirror_mode": {
    "name": "ipython",
    "version": 3
   },
   "file_extension": ".py",
   "mimetype": "text/x-python",
   "name": "python",
   "nbconvert_exporter": "python",
   "pygments_lexer": "ipython3",
   "version": "3.6.3"
  }
 },
 "nbformat": 4,
 "nbformat_minor": 2
}
