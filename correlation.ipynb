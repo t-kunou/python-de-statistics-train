{
 "cells": [
  {
   "cell_type": "markdown",
   "metadata": {},
   "source": [
    "# 相関\n",
    "\n",
    "- 2つの変量についての関係"
   ]
  },
  {
   "cell_type": "markdown",
   "metadata": {},
   "source": [
    "## 相関係数\n",
    "\n",
    "- ピアソンの積率相関係数とも言う\n",
    "- 相関関係の度合いを表す統計量\n",
    "- 一方が他方と比例関係があるときに正の相関、反比例関係があるときに負の相関という"
   ]
  },
  {
   "cell_type": "markdown",
   "metadata": {},
   "source": [
    "$$\n",
    "r=\\frac{\\sum_{i=1}^{n}({x_i} - \\overline{x})({y_i} - \\overline{y})}{\\sqrt{\\sum_{i=1}^{n}({x_i} - \\overline{x})^2}\\sqrt{\\sum_{i=1}^{n}({y_i} - \\overline{y})^2}}\n",
    "$$"
   ]
  },
  {
   "cell_type": "markdown",
   "metadata": {},
   "source": [
    "## 正の相関がある場合\n",
    "\n",
    "- 以下のデータが得られているとする"
   ]
  },
  {
   "cell_type": "markdown",
   "metadata": {},
   "source": [
    "### 強い正の相関がある"
   ]
  },
  {
   "cell_type": "code",
   "execution_count": 67,
   "metadata": {},
   "outputs": [
    {
     "data": {
      "text/plain": [
       "0.8593990168848863"
      ]
     },
     "execution_count": 67,
     "metadata": {},
     "output_type": "execute_result"
    },
    {
     "data": {
      "image/png": "[encoded data removed]",
      "text/plain": [
       "<Figure size 432x288 with 1 Axes>"
      ]
     },
     "metadata": {
      "needs_background": "light"
     },
     "output_type": "display_data"
    }
   ],
   "source": [
    "import numpy as np\n",
    "import matplotlib.pyplot as plt\n",
    "\n",
    "data = [[-4, 18], [2, 9], [-2, 18], [4, 10], [3, 8], [1, 9], [1, 18], [7, 11], [11, 10], [7, 26], [12, 14], [6, 28], [8, 27], [16, 19], [12, 31], [10, 25], [12, 30], [12, 30], [22, 36], [15, 37], [15, 33], [20, 25], [26, 34], [21, 24], [27, 35], [24, 26], [27, 30], [27, 42], [25, 35], [27, 38], [28, 32], [31, 41], [29, 46], [28, 49], [37, 49], [37, 50], [34, 49], [34, 47], [42, 48], [35, 45]]\n",
    "\n",
    "plt.scatter(list(map(lambda x: x[0], data)), list(map(lambda x: x[1], data)))\n",
    "\n",
    "average_x = np.average(list(map(lambda x: x[0], data)))\n",
    "average_y = np.average(list(map(lambda x: x[1], data)))\n",
    "\n",
    "numerator = sum([(v[0] - average_x) * (v[1] - average_y) for v in data] )\n",
    "denominator = ((sum([(v[0] - average_x)**2 for v in data])**(1/2))) * ((sum([(v[1] - average_y)**2 for v in data])**(1/2)))\n",
    "\n",
    "numerator / denominator"
   ]
  },
  {
   "cell_type": "markdown",
   "metadata": {},
   "source": [
    "### 弱い正の相関がある"
   ]
  },
  {
   "cell_type": "code",
   "execution_count": 69,
   "metadata": {},
   "outputs": [
    {
     "data": {
      "text/plain": [
       "0.49932199784181913"
      ]
     },
     "execution_count": 69,
     "metadata": {},
     "output_type": "execute_result"
    },
    {
     "data": {
      "image/png": "[encoded data removed]",
      "text/plain": [
       "<Figure size 432x288 with 1 Axes>"
      ]
     },
     "metadata": {
      "needs_background": "light"
     },
     "output_type": "display_data"
    }
   ],
   "source": [
    "import numpy as np\n",
    "import matplotlib.pyplot as plt\n",
    "\n",
    "data = [[-17, 26], [-6, 42], [-15, 36], [21, 50], [-7, 48], [-9, 40], [7, 10], [9, 35], [15, 29], [24, 13], [8, 52], [20, 69], [10, 43], [17, 65], [25, 48], [0, 20], [35, 59], [26, 49], [24, 32], [23, 39], [33, 40], [27, 46], [25, 40], [13, 63], [26, 68], [28, 70], [31, 69], [10, 72], [46, 33], [15, 82], [44, 74], [27, 75], [23, 76], [26, 65], [28, 56], [52, 91], [43, 66], [47, 60], [42, 85], [41, 75]]\n",
    "\n",
    "plt.scatter(list(map(lambda x: x[0], data)), list(map(lambda x: x[1], data)))\n",
    "\n",
    "average_x = np.average(list(map(lambda x: x[0], data)))\n",
    "average_y = np.average(list(map(lambda x: x[1], data)))\n",
    "\n",
    "numerator = sum([(v[0] - average_x) * (v[1] - average_y) for v in data] )\n",
    "denominator = ((sum([(v[0] - average_x)**2 for v in data])**(1/2))) * ((sum([(v[1] - average_y)**2 for v in data])**(1/2)))\n",
    "\n",
    "numerator / denominator"
   ]
  },
  {
   "cell_type": "code",
   "execution_count": 65,
   "metadata": {},
   "outputs": [
    {
     "data": {
      "text/plain": [
       "[[-4, 18],\n",
       " [2, 9],\n",
       " [-2, 18],\n",
       " [4, 10],\n",
       " [3, 8],\n",
       " [1, 9],\n",
       " [1, 18],\n",
       " [7, 11],\n",
       " [11, 10],\n",
       " [7, 26],\n",
       " [12, 14],\n",
       " [6, 28],\n",
       " [8, 27],\n",
       " [16, 19],\n",
       " [12, 31],\n",
       " [10, 25],\n",
       " [12, 30],\n",
       " [12, 30],\n",
       " [22, 36],\n",
       " [15, 37],\n",
       " [15, 33],\n",
       " [20, 25],\n",
       " [26, 34],\n",
       " [21, 24],\n",
       " [27, 35],\n",
       " [24, 26],\n",
       " [27, 30],\n",
       " [27, 42],\n",
       " [25, 35],\n",
       " [27, 38],\n",
       " [28, 32],\n",
       " [31, 41],\n",
       " [29, 46],\n",
       " [28, 49],\n",
       " [37, 49],\n",
       " [37, 50],\n",
       " [34, 49],\n",
       " [34, 47],\n",
       " [42, 48],\n",
       " [35, 45]]"
      ]
     },
     "execution_count": 65,
     "metadata": {},
     "output_type": "execute_result"
    }
   ],
   "source": [
    "import random\n",
    "\n",
    "[[v -5 + random.randrange(10), v + random.randrange(20)] for v in range(40)]"
   ]
  }
 ],
 "metadata": {
  "kernelspec": {
   "display_name": "Python 3",
   "language": "python",
   "name": "python3"
  },
  "language_info": {
   "codemirror_mode": {
    "name": "ipython",
    "version": 3
   },
   "file_extension": ".py",
   "mimetype": "text/x-python",
   "name": "python",
   "nbconvert_exporter": "python",
   "pygments_lexer": "ipython3",
   "version": "3.6.3"
  }
 },
 "nbformat": 4,
 "nbformat_minor": 2
}
